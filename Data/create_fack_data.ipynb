{
 "cells": [
  {
   "cell_type": "code",
   "execution_count": 1,
   "id": "cosmetic-shelf",
   "metadata": {
    "execution": {
     "iopub.status.idle": "2021-04-01T17:12:35.002964Z",
     "shell.execute_reply": "2021-04-01T17:12:35.001011Z",
     "shell.execute_reply.started": "2021-04-01T17:12:34.374719Z"
    }
   },
   "outputs": [],
   "source": [
    "import pandas as pd\n",
    "import numpy as np\n",
    "import random\n",
    "from datetime import datetime"
   ]
  },
  {
   "cell_type": "code",
   "execution_count": 2,
   "id": "conservative-luxembourg",
   "metadata": {
    "execution": {
     "iopub.execute_input": "2021-04-01T17:12:35.005888Z",
     "iopub.status.busy": "2021-04-01T17:12:35.004912Z",
     "iopub.status.idle": "2021-04-01T17:12:35.041981Z",
     "shell.execute_reply": "2021-04-01T17:12:35.033202Z",
     "shell.execute_reply.started": "2021-04-01T17:12:35.005888Z"
    }
   },
   "outputs": [],
   "source": [
    "random.seed(365)\n",
    "np.random.seed(365)\n",
    "number_of_data_rows = 1000\n",
    "\n",
    "# create list of 31 dates\n",
    "# Return a fixed frequency DatetimeIndex, with business day as the default frequency.\n",
    "dates = pd.bdate_range(datetime(2021, 4, 1), periods=10).tolist()\n",
    "\n",
    "data = {'business_date': [random.choice(dates) for _ in range(number_of_data_rows)],\n",
    "        'expense': [random.choice(['business', 'personal']) for _ in range(number_of_data_rows)],\n",
    "        'products': [random.choice(['ribeye', 'coffee', 'salmon', 'pie']) for _ in range(number_of_data_rows)],\n",
    "        'price': np.random.normal(15, 5, size=(1, number_of_data_rows))[0]}\n",
    "\n",
    "# create the dataframe and save it to Excel\n",
    "df = pd.DataFrame(data)"
   ]
  },
  {
   "cell_type": "code",
   "execution_count": 3,
   "id": "renewable-genesis",
   "metadata": {
    "execution": {
     "iopub.execute_input": "2021-04-01T17:12:35.051738Z",
     "iopub.status.busy": "2021-04-01T17:12:35.050760Z",
     "iopub.status.idle": "2021-04-01T17:12:35.086854Z",
     "shell.execute_reply": "2021-04-01T17:12:35.080025Z",
     "shell.execute_reply.started": "2021-04-01T17:12:35.051738Z"
    }
   },
   "outputs": [],
   "source": [
    "df['business_date'] = [str(i)[:10] for i in df['business_date']]"
   ]
  },
  {
   "cell_type": "code",
   "execution_count": 4,
   "id": "sized-retrieval",
   "metadata": {
    "execution": {
     "iopub.execute_input": "2021-04-01T17:12:35.094657Z",
     "iopub.status.busy": "2021-04-01T17:12:35.093682Z",
     "iopub.status.idle": "2021-04-01T17:12:35.131725Z",
     "shell.execute_reply": "2021-04-01T17:12:35.130750Z",
     "shell.execute_reply.started": "2021-04-01T17:12:35.093682Z"
    }
   },
   "outputs": [],
   "source": [
    "unique_date_li = df['business_date'].unique()"
   ]
  },
  {
   "cell_type": "code",
   "execution_count": 5,
   "id": "civil-prospect",
   "metadata": {
    "execution": {
     "iopub.execute_input": "2021-04-01T17:12:35.136604Z",
     "iopub.status.busy": "2021-04-01T17:12:35.134653Z",
     "iopub.status.idle": "2021-04-01T17:12:35.293951Z",
     "shell.execute_reply": "2021-04-01T17:12:35.289074Z",
     "shell.execute_reply.started": "2021-04-01T17:12:35.136604Z"
    }
   },
   "outputs": [],
   "source": [
    "for i in unique_date_li:\n",
    "    temp_df = df.query(f\"business_date=='{i}'\").reset_index(drop=True)\n",
    "    temp_df.to_csv(f'./product_expense_{i}.csv', index=False)"
   ]
  },
  {
   "cell_type": "code",
   "execution_count": null,
   "id": "coupled-steering",
   "metadata": {},
   "outputs": [],
   "source": []
  }
 ],
 "metadata": {
  "kernelspec": {
   "display_name": "Python 3",
   "language": "python",
   "name": "python3"
  },
  "language_info": {
   "codemirror_mode": {
    "name": "ipython",
    "version": 3
   },
   "file_extension": ".py",
   "mimetype": "text/x-python",
   "name": "python",
   "nbconvert_exporter": "python",
   "pygments_lexer": "ipython3",
   "version": "3.7.7"
  }
 },
 "nbformat": 4,
 "nbformat_minor": 5
}
